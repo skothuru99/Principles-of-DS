{
 "cells": [
  {
   "cell_type": "code",
   "execution_count": 17,
   "id": "6a2b05dd",
   "metadata": {},
   "outputs": [],
   "source": [
    "import pandas as pd"
   ]
  },
  {
   "cell_type": "code",
   "execution_count": 18,
   "id": "48e2245b",
   "metadata": {},
   "outputs": [],
   "source": [
    "# importing clean data for analysis"
   ]
  },
  {
   "cell_type": "code",
   "execution_count": 19,
   "id": "ee22f0a1",
   "metadata": {},
   "outputs": [
    {
     "name": "stdout",
     "output_type": "stream",
     "text": [
      "   Unnamed: 0 Height Weight  Age Grip Strength Frailty\n",
      "0           0  65.8    112   30            30       N \n",
      "1           1  71.5    136   19            31       N \n",
      "2           2  69.4    153   45            29       N \n",
      "3           3  68.2    142   22            28       Y \n",
      "4           4  67.8    144   29            24       Y \n",
      "5           5  68.7    123   50            26       N \n",
      "6           6  69.8    141   51            22       Y \n",
      "7           7  70.1    136   23            20       Y \n",
      "8           8  67.9    112   17            19       N \n",
      "9           9  66.8    120   39            31       N \n"
     ]
    }
   ],
   "source": [
    "data_frame = pd.read_csv('../data_raw/Frailty.csv')\n",
    "print(data_frame.to_string())"
   ]
  },
  {
   "cell_type": "code",
   "execution_count": 20,
   "id": "a26b3489",
   "metadata": {},
   "outputs": [],
   "source": [
    "# checks for null values"
   ]
  },
  {
   "cell_type": "code",
   "execution_count": 21,
   "id": "7af7da50",
   "metadata": {},
   "outputs": [
    {
     "data": {
      "text/plain": [
       "Unnamed: 0       0\n",
       "Height           0\n",
       "Weight           0\n",
       "Age              0\n",
       "Grip Strength    0\n",
       "Frailty          0\n",
       "dtype: int64"
      ]
     },
     "execution_count": 21,
     "metadata": {},
     "output_type": "execute_result"
    }
   ],
   "source": [
    "data_frame.isnull().sum()"
   ]
  },
  {
   "cell_type": "code",
   "execution_count": 22,
   "id": "24285e3f",
   "metadata": {},
   "outputs": [],
   "source": [
    "# store the cleaned data to data_raw folder"
   ]
  },
  {
   "cell_type": "code",
   "execution_count": 24,
   "id": "05194b13",
   "metadata": {},
   "outputs": [],
   "source": [
    "data_frame.to_csv('../data_clean/Frailty.csv')"
   ]
  },
  {
   "cell_type": "code",
   "execution_count": null,
   "id": "a58129aa",
   "metadata": {},
   "outputs": [],
   "source": []
  }
 ],
 "metadata": {
  "kernelspec": {
   "display_name": "Python 3 (ipykernel)",
   "language": "python",
   "name": "python3"
  },
  "language_info": {
   "codemirror_mode": {
    "name": "ipython",
    "version": 3
   },
   "file_extension": ".py",
   "mimetype": "text/x-python",
   "name": "python",
   "nbconvert_exporter": "python",
   "pygments_lexer": "ipython3",
   "version": "3.9.13"
  }
 },
 "nbformat": 4,
 "nbformat_minor": 5
}
